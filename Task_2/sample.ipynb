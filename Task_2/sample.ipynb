{
 "cells": [
  {
   "metadata": {},
   "cell_type": "markdown",
   "source": "CV",
   "id": "602a5d8bc6b940f0"
  },
  {
   "metadata": {
    "ExecuteTime": {
     "end_time": "2025-10-03T15:04:38.352666Z",
     "start_time": "2025-10-03T15:04:25.307771Z"
    }
   },
   "cell_type": "code",
   "source": [
    "from CV import EfficientNet, CVDataset\n",
    "from torch.utils import data"
   ],
   "id": "8f4ea53ae0c30d58",
   "outputs": [],
   "execution_count": 5
  },
  {
   "metadata": {
    "ExecuteTime": {
     "end_time": "2025-10-03T15:04:54.341400Z",
     "start_time": "2025-10-03T15:04:38.360625Z"
    }
   },
   "cell_type": "code",
   "source": [
    "en_b0 = EfficientNet()\n",
    "animals_10_dataset = CVDataset(\"data/raw-img\", 0.2, 0.1, en_b0.connector)\n",
    "batch_size = 64\n",
    "\n",
    "train_dataloader = data.DataLoader(\n",
    "    data.Subset(animals_10_dataset, animals_10_dataset.train_index),\n",
    "    batch_size=batch_size,\n",
    "    shuffle=True,\n",
    "    drop_last=True)\n",
    "eval_dataloader = data.DataLoader(\n",
    "    data.Subset(animals_10_dataset, animals_10_dataset.eval_index),\n",
    "    batch_size=batch_size,\n",
    "    shuffle=True,\n",
    "    drop_last=True)\n",
    "test_dataloader = data.DataLoader(\n",
    "    data.Subset(animals_10_dataset, animals_10_dataset.test_index),\n",
    "    batch_size=batch_size,\n",
    "    shuffle=True,\n",
    "    drop_last=True)"
   ],
   "id": "b64f1dc7feb20557",
   "outputs": [
    {
     "name": "stdout",
     "output_type": "stream",
     "text": [
      "file, folder: e83db7072afd013ed1584d05fb1d4e9fe777ead218ac104497f5c978a4eebdbd_640.jpg, elephant\n"
     ]
    }
   ],
   "execution_count": 6
  },
  {
   "metadata": {
    "ExecuteTime": {
     "end_time": "2025-10-03T15:04:54.384224Z",
     "start_time": "2025-10-03T15:04:54.377993Z"
    }
   },
   "cell_type": "code",
   "source": "len(train_dataloader)",
   "id": "575c3b8248194ae4",
   "outputs": [
    {
     "data": {
      "text/plain": [
       "21"
      ]
     },
     "execution_count": 7,
     "metadata": {},
     "output_type": "execute_result"
    }
   ],
   "execution_count": 7
  },
  {
   "metadata": {
    "ExecuteTime": {
     "end_time": "2025-10-03T15:06:14.005885Z",
     "start_time": "2025-10-03T15:04:54.448281Z"
    }
   },
   "cell_type": "code",
   "source": [
    "new_en_b0 = EfficientNet(new_head = True)\n",
    "new_en_b0.train(train_dataloader, eval_dataloader, train_steps = 600)\n",
    "new_en_b0.save(\"models/new_en_b0_first_run.pt\")"
   ],
   "id": "8a1c83227173be37",
   "outputs": [],
   "execution_count": 8
  },
  {
   "metadata": {
    "ExecuteTime": {
     "end_time": "2025-10-03T15:06:14.311951Z",
     "start_time": "2025-10-03T15:06:14.057759Z"
    }
   },
   "cell_type": "code",
   "source": "mat, rep = new_en_b0.eval_statistics(test_dataloader)",
   "id": "d1a0125c9b55d2d5",
   "outputs": [],
   "execution_count": 9
  },
  {
   "metadata": {
    "ExecuteTime": {
     "end_time": "2025-10-03T15:06:14.321762Z",
     "start_time": "2025-10-03T15:06:14.317936Z"
    }
   },
   "cell_type": "code",
   "source": "print(mat)",
   "id": "19933d3c04257488",
   "outputs": [
    {
     "name": "stdout",
     "output_type": "stream",
     "text": [
      "[[18  0  0  0  0  0  0  0  0  0]\n",
      " [ 0 22  0  0  0  0  0  0  0  1]\n",
      " [ 0  0 27  0  0  0  0  0  0  0]\n",
      " [ 0  0  0 17  1  0  0  0  0  0]\n",
      " [ 0  0  0  0 18  0  0  0  0  0]\n",
      " [ 0  0  0  0  0 15  0  0  0  0]\n",
      " [ 0  0  0  0  0  0 21  0  0  0]\n",
      " [ 0  0  0  0  0  0  0 21  0  0]\n",
      " [ 0  0  0  0  0  0  0  0 12  0]\n",
      " [ 0  0  1  0  0  0  0  0  0 18]]\n"
     ]
    }
   ],
   "execution_count": 10
  },
  {
   "metadata": {
    "ExecuteTime": {
     "end_time": "2025-10-03T15:06:14.343719Z",
     "start_time": "2025-10-03T15:06:14.340220Z"
    }
   },
   "cell_type": "code",
   "source": "print(rep)",
   "id": "d84dd927297d2e5c",
   "outputs": [
    {
     "name": "stdout",
     "output_type": "stream",
     "text": [
      "              precision    recall  f1-score   support\n",
      "\n",
      "   butterfly       1.00      1.00      1.00        18\n",
      "         cat       1.00      0.96      0.98        23\n",
      "     chicken       0.96      1.00      0.98        27\n",
      "         cow       1.00      0.94      0.97        18\n",
      "         dog       0.95      1.00      0.97        18\n",
      "    elephant       1.00      1.00      1.00        15\n",
      "       horse       1.00      1.00      1.00        21\n",
      "       sheep       1.00      1.00      1.00        21\n",
      "      spider       1.00      1.00      1.00        12\n",
      "    squirrel       0.95      0.95      0.95        19\n",
      "\n",
      "    accuracy                           0.98       192\n",
      "   macro avg       0.99      0.98      0.99       192\n",
      "weighted avg       0.98      0.98      0.98       192\n",
      "\n"
     ]
    }
   ],
   "execution_count": 11
  },
  {
   "metadata": {
    "ExecuteTime": {
     "end_time": "2025-10-03T15:06:14.705583Z",
     "start_time": "2025-10-03T15:06:14.425508Z"
    }
   },
   "cell_type": "code",
   "source": [
    "new_new_en_b0 = EfficientNet(new_head = True)\n",
    "new_new_en_b0.load(\"models/new_en_b0_test.pt\")"
   ],
   "id": "aed3f4f344ebe225",
   "outputs": [],
   "execution_count": 12
  },
  {
   "metadata": {},
   "cell_type": "markdown",
   "source": "NER",
   "id": "82265b806bf52076"
  }
 ],
 "metadata": {
  "kernelspec": {
   "display_name": "Python 3",
   "language": "python",
   "name": "python3"
  },
  "language_info": {
   "codemirror_mode": {
    "name": "ipython",
    "version": 2
   },
   "file_extension": ".py",
   "mimetype": "text/x-python",
   "name": "python",
   "nbconvert_exporter": "python",
   "pygments_lexer": "ipython2",
   "version": "2.7.6"
  }
 },
 "nbformat": 4,
 "nbformat_minor": 5
}
