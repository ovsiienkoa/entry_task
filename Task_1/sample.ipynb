{
 "cells": [
  {
   "metadata": {
    "ExecuteTime": {
     "end_time": "2025-10-02T11:58:39.517314Z",
     "start_time": "2025-10-02T11:58:34.152399Z"
    }
   },
   "cell_type": "code",
   "source": [
    "from torchvision.datasets import MNIST\n",
    "from model_scripts import MnistClassifier"
   ],
   "id": "5c59ea735a82be20",
   "outputs": [],
   "execution_count": 1
  },
  {
   "metadata": {
    "ExecuteTime": {
     "end_time": "2025-10-02T11:58:39.608889Z",
     "start_time": "2025-10-02T11:58:39.546171Z"
    }
   },
   "cell_type": "code",
   "source": "dataset = MNIST(root=\"./data\", download=True)",
   "id": "2a345aeee1671b54",
   "outputs": [],
   "execution_count": 2
  },
  {
   "metadata": {
    "ExecuteTime": {
     "end_time": "2025-10-02T11:59:47.720076Z",
     "start_time": "2025-10-02T11:58:39.935098Z"
    }
   },
   "cell_type": "code",
   "source": [
    "classifier = MnistClassifier(algorithm='rf')\n",
    "classifier.train(dataset)"
   ],
   "id": "d8eb49a8e0c3ab07",
   "outputs": [],
   "execution_count": 3
  },
  {
   "metadata": {
    "ExecuteTime": {
     "end_time": "2025-10-02T12:02:36.361685Z",
     "start_time": "2025-10-02T12:02:36.356527Z"
    }
   },
   "cell_type": "code",
   "source": [
    "funny_ind = classifier.test_index[0]\n",
    "ex_label = dataset[funny_ind][1]\n",
    "ex_img = dataset[funny_ind][0]\n",
    "ex_img"
   ],
   "id": "28b78704c988fc32",
   "outputs": [
    {
     "data": {
      "text/plain": [
       "<PIL.Image.Image image mode=L size=28x28>"
      ],
      "image/png": "[encoded data removed]",
      "image/jpeg": "[encoded data removed]"
     },
     "execution_count": 9,
     "metadata": {},
     "output_type": "execute_result"
    }
   ],
   "execution_count": 9
  },
  {
   "metadata": {
    "ExecuteTime": {
     "end_time": "2025-10-02T11:59:47.874536Z",
     "start_time": "2025-10-02T11:59:47.796502Z"
    }
   },
   "cell_type": "code",
   "source": "classifier.predict(ex_img)",
   "id": "77c481805a6878fb",
   "outputs": [
    {
     "data": {
      "text/plain": [
       "array([7])"
      ]
     },
     "execution_count": 5,
     "metadata": {},
     "output_type": "execute_result"
    }
   ],
   "execution_count": 5
  },
  {
   "metadata": {
    "ExecuteTime": {
     "end_time": "2025-10-02T11:59:58.362424Z",
     "start_time": "2025-10-02T11:59:47.993629Z"
    }
   },
   "cell_type": "code",
   "source": [
    "classifier = MnistClassifier(algorithm='nn')\n",
    "classifier.train(dataset)\n",
    "classifier.predict(ex_img)"
   ],
   "id": "7df2c7d85ee4687d",
   "outputs": [
    {
     "data": {
      "text/plain": [
       "array([7])"
      ]
     },
     "execution_count": 6,
     "metadata": {},
     "output_type": "execute_result"
    }
   ],
   "execution_count": 6
  },
  {
   "metadata": {
    "ExecuteTime": {
     "end_time": "2025-10-02T12:00:08.760338Z",
     "start_time": "2025-10-02T11:59:58.366417Z"
    }
   },
   "cell_type": "code",
   "source": [
    "classifier = MnistClassifier(algorithm='cnn')\n",
    "classifier.train(dataset)\n",
    "classifier.predict(ex_img)"
   ],
   "id": "e44a4dfa04fba480",
   "outputs": [
    {
     "data": {
      "text/plain": [
       "array([7])"
      ]
     },
     "execution_count": 7,
     "metadata": {},
     "output_type": "execute_result"
    }
   ],
   "execution_count": 7
  }
 ],
 "metadata": {
  "kernelspec": {
   "display_name": "Python 3",
   "language": "python",
   "name": "python3"
  },
  "language_info": {
   "codemirror_mode": {
    "name": "ipython",
    "version": 2
   },
   "file_extension": ".py",
   "mimetype": "text/x-python",
   "name": "python",
   "nbconvert_exporter": "python",
   "pygments_lexer": "ipython2",
   "version": "2.7.6"
  }
 },
 "nbformat": 4,
 "nbformat_minor": 5
}
